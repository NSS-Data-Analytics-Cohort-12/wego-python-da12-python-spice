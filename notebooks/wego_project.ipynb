{
 "cells": [
  {
   "cell_type": "code",
   "execution_count": 3,
   "id": "b40de656-29d8-4219-bd0c-6f21005ceab9",
   "metadata": {},
   "outputs": [],
   "source": [
    "import pandas as pd"
   ]
  },
  {
   "cell_type": "code",
   "execution_count": 5,
   "id": "d99d8829-487f-400f-aef6-347be836d001",
   "metadata": {},
   "outputs": [
    {
     "data": {
      "text/html": [
       "<div>\n",
       "<style scoped>\n",
       "    .dataframe tbody tr th:only-of-type {\n",
       "        vertical-align: middle;\n",
       "    }\n",
       "\n",
       "    .dataframe tbody tr th {\n",
       "        vertical-align: top;\n",
       "    }\n",
       "\n",
       "    .dataframe thead th {\n",
       "        text-align: right;\n",
       "    }\n",
       "</style>\n",
       "<table border=\"1\" class=\"dataframe\">\n",
       "  <thead>\n",
       "    <tr style=\"text-align: right;\">\n",
       "      <th></th>\n",
       "      <th>CALENDAR_ID</th>\n",
       "      <th>SERVICE_ABBR</th>\n",
       "      <th>ADHERENCE_ID</th>\n",
       "      <th>DATE</th>\n",
       "      <th>ROUTE_ABBR</th>\n",
       "      <th>BLOCK_ABBR</th>\n",
       "      <th>OPERATOR</th>\n",
       "      <th>TRIP_ID</th>\n",
       "      <th>OVERLOAD_ID</th>\n",
       "      <th>ROUTE_DIRECTION_NAME</th>\n",
       "      <th>...</th>\n",
       "      <th>ACTUAL_HDWY</th>\n",
       "      <th>HDWY_DEV</th>\n",
       "      <th>ADJUSTED_EARLY_COUNT</th>\n",
       "      <th>ADJUSTED_LATE_COUNT</th>\n",
       "      <th>ADJUSTED_ONTIME_COUNT</th>\n",
       "      <th>STOP_CANCELLED</th>\n",
       "      <th>PREV_SCHED_STOP_CANCELLED</th>\n",
       "      <th>IS_RELIEF</th>\n",
       "      <th>DWELL_IN_MINS</th>\n",
       "      <th>SCHEDULED_LAYOVER_MINUTES</th>\n",
       "    </tr>\n",
       "  </thead>\n",
       "  <tbody>\n",
       "    <tr>\n",
       "      <th>0</th>\n",
       "      <td>120230801</td>\n",
       "      <td>1</td>\n",
       "      <td>99457890</td>\n",
       "      <td>2023-08-01</td>\n",
       "      <td>22</td>\n",
       "      <td>2200</td>\n",
       "      <td>1040</td>\n",
       "      <td>345104</td>\n",
       "      <td>0</td>\n",
       "      <td>TO DOWNTOWN</td>\n",
       "      <td>...</td>\n",
       "      <td>NaN</td>\n",
       "      <td>NaN</td>\n",
       "      <td>0</td>\n",
       "      <td>0</td>\n",
       "      <td>1</td>\n",
       "      <td>0</td>\n",
       "      <td>0.0</td>\n",
       "      <td>0</td>\n",
       "      <td>6.500000</td>\n",
       "      <td>NaN</td>\n",
       "    </tr>\n",
       "    <tr>\n",
       "      <th>1</th>\n",
       "      <td>120230801</td>\n",
       "      <td>1</td>\n",
       "      <td>99457891</td>\n",
       "      <td>2023-08-01</td>\n",
       "      <td>22</td>\n",
       "      <td>2200</td>\n",
       "      <td>1040</td>\n",
       "      <td>345104</td>\n",
       "      <td>0</td>\n",
       "      <td>TO DOWNTOWN</td>\n",
       "      <td>...</td>\n",
       "      <td>NaN</td>\n",
       "      <td>NaN</td>\n",
       "      <td>0</td>\n",
       "      <td>0</td>\n",
       "      <td>1</td>\n",
       "      <td>0</td>\n",
       "      <td>0.0</td>\n",
       "      <td>0</td>\n",
       "      <td>0.000000</td>\n",
       "      <td>NaN</td>\n",
       "    </tr>\n",
       "    <tr>\n",
       "      <th>2</th>\n",
       "      <td>120230801</td>\n",
       "      <td>1</td>\n",
       "      <td>99457892</td>\n",
       "      <td>2023-08-01</td>\n",
       "      <td>22</td>\n",
       "      <td>2200</td>\n",
       "      <td>1040</td>\n",
       "      <td>345104</td>\n",
       "      <td>0</td>\n",
       "      <td>TO DOWNTOWN</td>\n",
       "      <td>...</td>\n",
       "      <td>NaN</td>\n",
       "      <td>NaN</td>\n",
       "      <td>0</td>\n",
       "      <td>0</td>\n",
       "      <td>1</td>\n",
       "      <td>0</td>\n",
       "      <td>0.0</td>\n",
       "      <td>0</td>\n",
       "      <td>0.000000</td>\n",
       "      <td>NaN</td>\n",
       "    </tr>\n",
       "    <tr>\n",
       "      <th>3</th>\n",
       "      <td>120230801</td>\n",
       "      <td>1</td>\n",
       "      <td>99457893</td>\n",
       "      <td>2023-08-01</td>\n",
       "      <td>22</td>\n",
       "      <td>2200</td>\n",
       "      <td>1040</td>\n",
       "      <td>345104</td>\n",
       "      <td>0</td>\n",
       "      <td>TO DOWNTOWN</td>\n",
       "      <td>...</td>\n",
       "      <td>NaN</td>\n",
       "      <td>NaN</td>\n",
       "      <td>0</td>\n",
       "      <td>0</td>\n",
       "      <td>1</td>\n",
       "      <td>0</td>\n",
       "      <td>NaN</td>\n",
       "      <td>0</td>\n",
       "      <td>0.000000</td>\n",
       "      <td>NaN</td>\n",
       "    </tr>\n",
       "    <tr>\n",
       "      <th>4</th>\n",
       "      <td>120230801</td>\n",
       "      <td>1</td>\n",
       "      <td>99457894</td>\n",
       "      <td>2023-08-01</td>\n",
       "      <td>22</td>\n",
       "      <td>2200</td>\n",
       "      <td>1040</td>\n",
       "      <td>345105</td>\n",
       "      <td>0</td>\n",
       "      <td>FROM DOWNTOWN</td>\n",
       "      <td>...</td>\n",
       "      <td>NaN</td>\n",
       "      <td>NaN</td>\n",
       "      <td>0</td>\n",
       "      <td>0</td>\n",
       "      <td>1</td>\n",
       "      <td>0</td>\n",
       "      <td>0.0</td>\n",
       "      <td>0</td>\n",
       "      <td>12.866666</td>\n",
       "      <td>5.0</td>\n",
       "    </tr>\n",
       "  </tbody>\n",
       "</table>\n",
       "<p>5 rows × 30 columns</p>\n",
       "</div>"
      ],
      "text/plain": [
       "   CALENDAR_ID  SERVICE_ABBR  ADHERENCE_ID        DATE  ROUTE_ABBR  \\\n",
       "0    120230801             1      99457890  2023-08-01          22   \n",
       "1    120230801             1      99457891  2023-08-01          22   \n",
       "2    120230801             1      99457892  2023-08-01          22   \n",
       "3    120230801             1      99457893  2023-08-01          22   \n",
       "4    120230801             1      99457894  2023-08-01          22   \n",
       "\n",
       "   BLOCK_ABBR  OPERATOR  TRIP_ID  OVERLOAD_ID ROUTE_DIRECTION_NAME  ...  \\\n",
       "0        2200      1040   345104            0          TO DOWNTOWN  ...   \n",
       "1        2200      1040   345104            0          TO DOWNTOWN  ...   \n",
       "2        2200      1040   345104            0          TO DOWNTOWN  ...   \n",
       "3        2200      1040   345104            0          TO DOWNTOWN  ...   \n",
       "4        2200      1040   345105            0        FROM DOWNTOWN  ...   \n",
       "\n",
       "  ACTUAL_HDWY  HDWY_DEV  ADJUSTED_EARLY_COUNT  ADJUSTED_LATE_COUNT  \\\n",
       "0         NaN       NaN                     0                    0   \n",
       "1         NaN       NaN                     0                    0   \n",
       "2         NaN       NaN                     0                    0   \n",
       "3         NaN       NaN                     0                    0   \n",
       "4         NaN       NaN                     0                    0   \n",
       "\n",
       "   ADJUSTED_ONTIME_COUNT STOP_CANCELLED PREV_SCHED_STOP_CANCELLED IS_RELIEF  \\\n",
       "0                      1              0                       0.0         0   \n",
       "1                      1              0                       0.0         0   \n",
       "2                      1              0                       0.0         0   \n",
       "3                      1              0                       NaN         0   \n",
       "4                      1              0                       0.0         0   \n",
       "\n",
       "   DWELL_IN_MINS  SCHEDULED_LAYOVER_MINUTES  \n",
       "0       6.500000                        NaN  \n",
       "1       0.000000                        NaN  \n",
       "2       0.000000                        NaN  \n",
       "3       0.000000                        NaN  \n",
       "4      12.866666                        5.0  \n",
       "\n",
       "[5 rows x 30 columns]"
      ]
     },
     "execution_count": 5,
     "metadata": {},
     "output_type": "execute_result"
    }
   ],
   "source": [
    "wego = pd.read_csv(\"../data/Headway Data, 8-1-2023 to 9-30-2023.csv\")\n",
    "\n",
    "wego.head()"
   ]
  },
  {
   "cell_type": "code",
   "execution_count": 7,
   "id": "efc208b7-e602-4194-9589-d9b7259513bb",
   "metadata": {},
   "outputs": [
    {
     "name": "stdout",
     "output_type": "stream",
     "text": [
      "<class 'pandas.core.frame.DataFrame'>\n",
      "RangeIndex: 350329 entries, 0 to 350328\n",
      "Data columns (total 30 columns):\n",
      " #   Column                     Non-Null Count   Dtype  \n",
      "---  ------                     --------------   -----  \n",
      " 0   CALENDAR_ID                350329 non-null  int64  \n",
      " 1   SERVICE_ABBR               350329 non-null  int64  \n",
      " 2   ADHERENCE_ID               350329 non-null  int64  \n",
      " 3   DATE                       350329 non-null  object \n",
      " 4   ROUTE_ABBR                 350329 non-null  int64  \n",
      " 5   BLOCK_ABBR                 350329 non-null  int64  \n",
      " 6   OPERATOR                   350329 non-null  int64  \n",
      " 7   TRIP_ID                    350329 non-null  int64  \n",
      " 8   OVERLOAD_ID                350329 non-null  int64  \n",
      " 9   ROUTE_DIRECTION_NAME       350329 non-null  object \n",
      " 10  TIME_POINT_ABBR            350329 non-null  object \n",
      " 11  ROUTE_STOP_SEQUENCE        350318 non-null  float64\n",
      " 12  TRIP_EDGE                  350329 non-null  int64  \n",
      " 13  LATITUDE                   350329 non-null  float64\n",
      " 14  LONGITUDE                  350329 non-null  float64\n",
      " 15  SCHEDULED_TIME             350329 non-null  object \n",
      " 16  ACTUAL_ARRIVAL_TIME        338870 non-null  object \n",
      " 17  ACTUAL_DEPARTURE_TIME      338861 non-null  object \n",
      " 18  ADHERENCE                  338861 non-null  float64\n",
      " 19  SCHEDULED_HDWY             274738 non-null  float64\n",
      " 20  ACTUAL_HDWY                266062 non-null  float64\n",
      " 21  HDWY_DEV                   265893 non-null  float64\n",
      " 22  ADJUSTED_EARLY_COUNT       350329 non-null  int64  \n",
      " 23  ADJUSTED_LATE_COUNT        350329 non-null  int64  \n",
      " 24  ADJUSTED_ONTIME_COUNT      350329 non-null  int64  \n",
      " 25  STOP_CANCELLED             350329 non-null  int64  \n",
      " 26  PREV_SCHED_STOP_CANCELLED  280000 non-null  float64\n",
      " 27  IS_RELIEF                  350329 non-null  int64  \n",
      " 28  DWELL_IN_MINS              338858 non-null  float64\n",
      " 29  SCHEDULED_LAYOVER_MINUTES  53102 non-null   float64\n",
      "dtypes: float64(10), int64(14), object(6)\n",
      "memory usage: 80.2+ MB\n"
     ]
    }
   ],
   "source": [
    "wego.info()"
   ]
  },
  {
   "cell_type": "code",
   "execution_count": 9,
   "id": "b3d7e1b3-32e8-47e4-832d-4772cc784c09",
   "metadata": {},
   "outputs": [
    {
     "data": {
      "text/plain": [
       "88.383333"
      ]
     },
     "execution_count": 9,
     "metadata": {},
     "output_type": "execute_result"
    }
   ],
   "source": [
    "wego['ADHERENCE'].max()"
   ]
  },
  {
   "cell_type": "code",
   "execution_count": 11,
   "id": "86e5e54e-e78c-4957-addb-72477a01733b",
   "metadata": {},
   "outputs": [
    {
     "data": {
      "text/plain": [
       "-948.533333"
      ]
     },
     "execution_count": 11,
     "metadata": {},
     "output_type": "execute_result"
    }
   ],
   "source": [
    "wego['ADHERENCE'].min()"
   ]
  },
  {
   "cell_type": "code",
   "execution_count": 65,
   "id": "d9f17766-d9c3-499b-aa0b-23cbd2b19b1a",
   "metadata": {},
   "outputs": [
    {
     "data": {
      "text/html": [
       "<div>\n",
       "<style scoped>\n",
       "    .dataframe tbody tr th:only-of-type {\n",
       "        vertical-align: middle;\n",
       "    }\n",
       "\n",
       "    .dataframe tbody tr th {\n",
       "        vertical-align: top;\n",
       "    }\n",
       "\n",
       "    .dataframe thead th {\n",
       "        text-align: right;\n",
       "    }\n",
       "</style>\n",
       "<table border=\"1\" class=\"dataframe\">\n",
       "  <thead>\n",
       "    <tr style=\"text-align: right;\">\n",
       "      <th></th>\n",
       "      <th>ADHERENCE</th>\n",
       "      <th>SCHEDULED_HDWY</th>\n",
       "      <th>ACTUAL_HDWY</th>\n",
       "    </tr>\n",
       "    <tr>\n",
       "      <th>ROUTE_ABBR</th>\n",
       "      <th></th>\n",
       "      <th></th>\n",
       "      <th></th>\n",
       "    </tr>\n",
       "  </thead>\n",
       "  <tbody>\n",
       "    <tr>\n",
       "      <th>3</th>\n",
       "      <td>-3.761491</td>\n",
       "      <td>19.523403</td>\n",
       "      <td>20.133135</td>\n",
       "    </tr>\n",
       "    <tr>\n",
       "      <th>7</th>\n",
       "      <td>-3.346555</td>\n",
       "      <td>22.785186</td>\n",
       "      <td>23.161475</td>\n",
       "    </tr>\n",
       "    <tr>\n",
       "      <th>22</th>\n",
       "      <td>-1.138107</td>\n",
       "      <td>29.992722</td>\n",
       "      <td>30.600886</td>\n",
       "    </tr>\n",
       "    <tr>\n",
       "      <th>23</th>\n",
       "      <td>-1.760110</td>\n",
       "      <td>18.373912</td>\n",
       "      <td>19.275453</td>\n",
       "    </tr>\n",
       "    <tr>\n",
       "      <th>50</th>\n",
       "      <td>-2.505022</td>\n",
       "      <td>19.528756</td>\n",
       "      <td>19.753606</td>\n",
       "    </tr>\n",
       "    <tr>\n",
       "      <th>52</th>\n",
       "      <td>-3.971342</td>\n",
       "      <td>19.980827</td>\n",
       "      <td>20.849976</td>\n",
       "    </tr>\n",
       "    <tr>\n",
       "      <th>55</th>\n",
       "      <td>-4.823302</td>\n",
       "      <td>13.581157</td>\n",
       "      <td>13.858523</td>\n",
       "    </tr>\n",
       "    <tr>\n",
       "      <th>56</th>\n",
       "      <td>-2.703988</td>\n",
       "      <td>13.983759</td>\n",
       "      <td>14.158662</td>\n",
       "    </tr>\n",
       "  </tbody>\n",
       "</table>\n",
       "</div>"
      ],
      "text/plain": [
       "            ADHERENCE  SCHEDULED_HDWY  ACTUAL_HDWY\n",
       "ROUTE_ABBR                                        \n",
       "3           -3.761491       19.523403    20.133135\n",
       "7           -3.346555       22.785186    23.161475\n",
       "22          -1.138107       29.992722    30.600886\n",
       "23          -1.760110       18.373912    19.275453\n",
       "50          -2.505022       19.528756    19.753606\n",
       "52          -3.971342       19.980827    20.849976\n",
       "55          -4.823302       13.581157    13.858523\n",
       "56          -2.703988       13.983759    14.158662"
      ]
     },
     "execution_count": 65,
     "metadata": {},
     "output_type": "execute_result"
    }
   ],
   "source": [
    "wego.groupby('ROUTE_ABBR').mean('ADHERENCE', 'SCHEDULED_HDWY')[['ADHERENCE', 'SCHEDULED_HDWY', 'ACTUAL_HDWY']]"
   ]
  },
  {
   "cell_type": "code",
   "execution_count": 63,
   "id": "3b305a00-5bd6-4ac9-976e-7a5ba3d520cc",
   "metadata": {},
   "outputs": [
    {
     "data": {
      "text/plain": [
       "590.433333"
      ]
     },
     "execution_count": 63,
     "metadata": {},
     "output_type": "execute_result"
    }
   ],
   "source": [
    "wego['ACTUAL_HDWY'].max()"
   ]
  },
  {
   "cell_type": "code",
   "execution_count": 37,
   "id": "c03a4d0c-5d68-4dac-ab5b-21ec694fad0c",
   "metadata": {},
   "outputs": [
    {
     "data": {
      "text/plain": [
       "0.0"
      ]
     },
     "execution_count": 37,
     "metadata": {},
     "output_type": "execute_result"
    }
   ],
   "source": [
    "wego['ACTUAL_HDWY'].min()"
   ]
  },
  {
   "cell_type": "code",
   "execution_count": 41,
   "id": "478018c3-5b76-4d27-84da-e3763b492f9a",
   "metadata": {},
   "outputs": [
    {
     "data": {
      "text/plain": [
       "18.648561468875673"
      ]
     },
     "execution_count": 41,
     "metadata": {},
     "output_type": "execute_result"
    }
   ],
   "source": [
    "wego['ACTUAL_HDWY'].mean()"
   ]
  },
  {
   "cell_type": "code",
   "execution_count": 71,
   "id": "f4342603-5992-4831-a745-9cab6f667135",
   "metadata": {},
   "outputs": [
    {
     "data": {
      "text/html": [
       "<div>\n",
       "<style scoped>\n",
       "    .dataframe tbody tr th:only-of-type {\n",
       "        vertical-align: middle;\n",
       "    }\n",
       "\n",
       "    .dataframe tbody tr th {\n",
       "        vertical-align: top;\n",
       "    }\n",
       "\n",
       "    .dataframe thead th {\n",
       "        text-align: right;\n",
       "    }\n",
       "</style>\n",
       "<table border=\"1\" class=\"dataframe\">\n",
       "  <thead>\n",
       "    <tr style=\"text-align: right;\">\n",
       "      <th></th>\n",
       "      <th>TRIP_ID</th>\n",
       "    </tr>\n",
       "    <tr>\n",
       "      <th>ROUTE_ABBR</th>\n",
       "      <th></th>\n",
       "    </tr>\n",
       "  </thead>\n",
       "  <tbody>\n",
       "    <tr>\n",
       "      <th>3</th>\n",
       "      <td>47162</td>\n",
       "    </tr>\n",
       "    <tr>\n",
       "      <th>7</th>\n",
       "      <td>18026</td>\n",
       "    </tr>\n",
       "    <tr>\n",
       "      <th>22</th>\n",
       "      <td>25959</td>\n",
       "    </tr>\n",
       "    <tr>\n",
       "      <th>23</th>\n",
       "      <td>42108</td>\n",
       "    </tr>\n",
       "    <tr>\n",
       "      <th>50</th>\n",
       "      <td>43291</td>\n",
       "    </tr>\n",
       "    <tr>\n",
       "      <th>52</th>\n",
       "      <td>51819</td>\n",
       "    </tr>\n",
       "    <tr>\n",
       "      <th>55</th>\n",
       "      <td>61944</td>\n",
       "    </tr>\n",
       "    <tr>\n",
       "      <th>56</th>\n",
       "      <td>60020</td>\n",
       "    </tr>\n",
       "  </tbody>\n",
       "</table>\n",
       "</div>"
      ],
      "text/plain": [
       "            TRIP_ID\n",
       "ROUTE_ABBR         \n",
       "3             47162\n",
       "7             18026\n",
       "22            25959\n",
       "23            42108\n",
       "50            43291\n",
       "52            51819\n",
       "55            61944\n",
       "56            60020"
      ]
     },
     "execution_count": 71,
     "metadata": {},
     "output_type": "execute_result"
    }
   ],
   "source": [
    "wego.groupby('ROUTE_ABBR').count()[['TRIP_ID']]"
   ]
  },
  {
   "cell_type": "markdown",
   "id": "7a5bb2ef-8b6b-4a8f-a49a-d8163fc0095e",
   "metadata": {},
   "source": [
    "#### 4. How does time of day or day of week affect headway and on-time performance?"
   ]
  },
  {
   "cell_type": "code",
   "execution_count": 77,
   "id": "7504926e-211f-4cc9-8f4b-be3e3ad61b92",
   "metadata": {},
   "outputs": [],
   "source": [
    "mean = wego.groupby('SERVICE_ABBR').mean('ADHERENCE')[['ADHERENCE', 'SCHEDULED_HDWY', 'ACTUAL_HDWY']]"
   ]
  },
  {
   "cell_type": "code",
   "execution_count": 79,
   "id": "bf3b7d73-2c89-434b-9201-64b39ff021f0",
   "metadata": {},
   "outputs": [
    {
     "data": {
      "text/html": [
       "<div>\n",
       "<style scoped>\n",
       "    .dataframe tbody tr th:only-of-type {\n",
       "        vertical-align: middle;\n",
       "    }\n",
       "\n",
       "    .dataframe tbody tr th {\n",
       "        vertical-align: top;\n",
       "    }\n",
       "\n",
       "    .dataframe thead th {\n",
       "        text-align: right;\n",
       "    }\n",
       "</style>\n",
       "<table border=\"1\" class=\"dataframe\">\n",
       "  <thead>\n",
       "    <tr style=\"text-align: right;\">\n",
       "      <th></th>\n",
       "      <th>ADHERENCE</th>\n",
       "      <th>SCHEDULED_HDWY</th>\n",
       "      <th>ACTUAL_HDWY</th>\n",
       "    </tr>\n",
       "    <tr>\n",
       "      <th>SERVICE_ABBR</th>\n",
       "      <th></th>\n",
       "      <th></th>\n",
       "      <th></th>\n",
       "    </tr>\n",
       "  </thead>\n",
       "  <tbody>\n",
       "    <tr>\n",
       "      <th>1</th>\n",
       "      <td>-3.215421</td>\n",
       "      <td>16.407707</td>\n",
       "      <td>16.801986</td>\n",
       "    </tr>\n",
       "    <tr>\n",
       "      <th>2</th>\n",
       "      <td>-3.584496</td>\n",
       "      <td>25.150814</td>\n",
       "      <td>25.777915</td>\n",
       "    </tr>\n",
       "    <tr>\n",
       "      <th>3</th>\n",
       "      <td>-2.513130</td>\n",
       "      <td>25.302967</td>\n",
       "      <td>26.198863</td>\n",
       "    </tr>\n",
       "  </tbody>\n",
       "</table>\n",
       "</div>"
      ],
      "text/plain": [
       "              ADHERENCE  SCHEDULED_HDWY  ACTUAL_HDWY\n",
       "SERVICE_ABBR                                        \n",
       "1             -3.215421       16.407707    16.801986\n",
       "2             -3.584496       25.150814    25.777915\n",
       "3             -2.513130       25.302967    26.198863"
      ]
     },
     "execution_count": 79,
     "metadata": {},
     "output_type": "execute_result"
    }
   ],
   "source": [
    "mean"
   ]
  },
  {
   "cell_type": "code",
   "execution_count": null,
   "id": "9b668621-bf25-4e51-8c54-a8e27786dfd0",
   "metadata": {},
   "outputs": [],
   "source": []
  }
 ],
 "metadata": {
  "kernelspec": {
   "display_name": "Python 3 (ipykernel)",
   "language": "python",
   "name": "python3"
  },
  "language_info": {
   "codemirror_mode": {
    "name": "ipython",
    "version": 3
   },
   "file_extension": ".py",
   "mimetype": "text/x-python",
   "name": "python",
   "nbconvert_exporter": "python",
   "pygments_lexer": "ipython3",
   "version": "3.12.4"
  }
 },
 "nbformat": 4,
 "nbformat_minor": 5
}
